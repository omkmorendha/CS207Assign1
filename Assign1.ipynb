{
  "nbformat": 4,
  "nbformat_minor": 0,
  "metadata": {
    "colab": {
      "name": "Assign1.ipynb",
      "provenance": [],
      "authorship_tag": "ABX9TyOcqdnRMyj3ROWzLyAMBvqe",
      "include_colab_link": true
    },
    "kernelspec": {
      "name": "python3",
      "display_name": "Python 3"
    },
    "language_info": {
      "name": "python"
    }
  },
  "cells": [
    {
      "cell_type": "markdown",
      "metadata": {
        "id": "view-in-github",
        "colab_type": "text"
      },
      "source": [
        "<a href=\"https://colab.research.google.com/github/omkmorendha/CS207Assign1/blob/main/Assign1.ipynb\" target=\"_parent\"><img src=\"https://colab.research.google.com/assets/colab-badge.svg\" alt=\"Open In Colab\"/></a>"
      ]
    },
    {
      "cell_type": "code",
      "metadata": {
        "colab": {
          "base_uri": "https://localhost:8080/"
        },
        "id": "suWD7yqL0hze",
        "outputId": "372331bb-749a-40fd-ad52-86782046e48c"
      },
      "source": [
        "def year(n):\n",
        "    if (n % 4 == 0):\n",
        "        if (n % 100 != 0 or n % 400 == 0):\n",
        "            return True\n",
        "    return False\n",
        "\n",
        "n = int(input())\n",
        "lp = year(n)\n",
        "\n",
        "if lp == True:\n",
        "    print('Leap Year')\n",
        "else:\n",
        "    print('Not a Leap year')"
      ],
      "execution_count": null,
      "outputs": [
        {
          "output_type": "stream",
          "name": "stdout",
          "text": [
            "2000\n",
            "Leap Year\n"
          ]
        }
      ]
    },
    {
      "cell_type": "code",
      "metadata": {
        "colab": {
          "base_uri": "https://localhost:8080/"
        },
        "id": "sjhLAkfM022w",
        "outputId": "2a17eb0d-c0c6-4977-c426-1b18f260036e"
      },
      "source": [
        "def func(n):\n",
        "    if (n % 2 == 1):\n",
        "        print('Weird')\n",
        "    elif (n >= 2 and n <= 5):\n",
        "        print('Not Weird')\n",
        "    elif (n <= 20):\n",
        "        print('Weird')\n",
        "    else:\n",
        "        print('Not Weird')\n",
        "\n",
        "n = int(input())\n",
        "func(n)\n"
      ],
      "execution_count": null,
      "outputs": [
        {
          "output_type": "stream",
          "name": "stdout",
          "text": [
            "7\n",
            "Weird\n"
          ]
        }
      ]
    },
    {
      "cell_type": "code",
      "metadata": {
        "colab": {
          "base_uri": "https://localhost:8080/"
        },
        "id": "j9cGwYFC06hV",
        "outputId": "401f1f07-37b8-4eaa-ba0d-8fa77225c0a9"
      },
      "source": [
        "def late(n):\n",
        "\n",
        "    arr = []\n",
        "    for i in range(0, n):\n",
        "        g = input()\n",
        "        arr.append(g)\n",
        "    \n",
        "    mid = int(len(arr) / 2)\n",
        "    print(\"Fashionably Late: \", arr[mid:-1])\n",
        "\n",
        "print(\"Number of guests: \")\n",
        "n = int(input())\n",
        "late(n)\n"
      ],
      "execution_count": null,
      "outputs": [
        {
          "output_type": "stream",
          "name": "stdout",
          "text": [
            "Number of guests: \n",
            "7\n",
            "Hardik\n",
            "Rahul\n",
            "Virat\n",
            "Rishabh\n",
            "Mahi\n",
            "Rohit\n",
            "Rahane\n",
            "Fashionably Late:  ['Rishabh', 'Mahi', 'Rohit']\n"
          ]
        }
      ]
    },
    {
      "cell_type": "code",
      "metadata": {
        "colab": {
          "base_uri": "https://localhost:8080/"
        },
        "id": "JUro43ir09dN",
        "outputId": "7d5cb196-21de-46a7-97ed-3e49072b64f7"
      },
      "source": [
        "import re\n",
        "\n",
        "def ser(doc, w):\n",
        "    sp = []\n",
        "    \n",
        "    for i in range(0, len(doc)):\n",
        "        sp.append(re.split('[., ]', doc[i]))\n",
        "\n",
        "    print(\"Index: \")\n",
        "    for i in range(0, len(doc)):\n",
        "        \n",
        "        for j in range(0, len(sp[i])):\n",
        "            \n",
        "            if sp[i][j].lower() == w.lower():\n",
        "                print(i, ' ')\n",
        "                break\n",
        "\n",
        "doc_list = [\"The Learn Python Challenge Rohit.\", \"They bought a car\", \"bangalore\"]\n",
        "ser(doc_list, 'RoHIt')\n"
      ],
      "execution_count": null,
      "outputs": [
        {
          "output_type": "stream",
          "name": "stdout",
          "text": [
            "Index: \n",
            "0\n"
          ]
        }
      ]
    },
    {
      "cell_type": "code",
      "metadata": {
        "colab": {
          "base_uri": "https://localhost:8080/"
        },
        "id": "0D9Mshwv1AWp",
        "outputId": "b6fa888e-d843-454e-fc2f-d6054e341ade"
      },
      "source": [
        "def pay(bp):\n",
        "    da = 0.4 * bp\n",
        "    hra = 0.2 * bp\n",
        "    gp = bp + da + hra\n",
        "    return gp\n",
        "\n",
        "print(\"Basic Pay: \")\n",
        "bp = int(input())\n",
        "print(\"Gross Pay: \", pay(bp))\n"
      ],
      "execution_count": null,
      "outputs": [
        {
          "output_type": "stream",
          "name": "stdout",
          "text": [
            "Basic Pay: \n",
            "88\n",
            "Gross Pay:  140.8\n"
          ]
        }
      ]
    }
  ]
}